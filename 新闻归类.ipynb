{
 "cells": [
  {
   "cell_type": "code",
   "execution_count": 164,
   "id": "7bc497f6",
   "metadata": {},
   "outputs": [],
   "source": [
    "import pandas as pd\n",
    "import numpy as np\n",
    "import collections\n",
    "import time\n",
    "import warnings\n",
    "import jieba"
   ]
  },
  {
   "cell_type": "markdown",
   "id": "24f93c65",
   "metadata": {},
   "source": [
    "数据来源：\n",
    "https://www.kaggle.com/datasets/bobaaayoung/chinese-nlp-classify-data\n",
    "\n",
    "共20万数据。不涉及复杂算法，根据已有的新闻和标签，分词后把分词加入对应的新闻标签内。  \n",
    "只做剔除掉纯数字和词语长度小于2的这两个判断。  \n",
    "把新闻分词，调用之前的字典，用分词搜索对应的字典键。统计出现最多的标签。作为新闻标签。    \n",
    "分别把样本和测试样本从10:10一直划分到19:1。共10次。测试这种方法的效果。结果准确率均在70%以上。   \n",
    "如果对分词的字典做调整，提高关键词对应的标签。准确率可以更高。预计可以达到80%-90%。    \n",
    "同时可以对关键词划分词性，判断新闻属于正面、负面、中性或其他品类新闻。  "
   ]
  },
  {
   "cell_type": "code",
   "execution_count": 165,
   "id": "60ceed00",
   "metadata": {},
   "outputs": [],
   "source": [
    "temp = []\n",
    "with open('data.txt','r',encoding='utf-8') as txt:\n",
    "    for i in txt:\n",
    "        i = i.replace('\\n','')\n",
    "        temp.append(i.split('\\t'))"
   ]
  },
  {
   "cell_type": "code",
   "execution_count": 166,
   "id": "ced217f3",
   "metadata": {},
   "outputs": [],
   "source": [
    "df = pd.DataFrame(temp)\n",
    "df.columns = ['新闻标题','新闻分类']"
   ]
  },
  {
   "cell_type": "code",
   "execution_count": 167,
   "id": "c38d8d7e",
   "metadata": {},
   "outputs": [
    {
     "data": {
      "text/plain": [
       "教育    20000\n",
       "科技    20000\n",
       "房产    20000\n",
       "体育    20000\n",
       "社会    20000\n",
       "娱乐    20000\n",
       "游戏    20000\n",
       "股票    20000\n",
       "时政    20000\n",
       "财经    20000\n",
       "Name: 新闻分类, dtype: int64"
      ]
     },
     "execution_count": 167,
     "metadata": {},
     "output_type": "execute_result"
    }
   ],
   "source": [
    "df['新闻分类'].value_counts()"
   ]
  },
  {
   "cell_type": "code",
   "execution_count": 170,
   "id": "550b95bc",
   "metadata": {},
   "outputs": [],
   "source": [
    "for k,v in dic1.items():\n",
    "    dic1[k] = dict(sorted(v.items(),key=lambda x:x[1],reverse=True))"
   ]
  },
  {
   "cell_type": "code",
   "execution_count": 188,
   "id": "ad573c1b",
   "metadata": {},
   "outputs": [],
   "source": [
    "lis = dict()\n",
    "for i in range(100000,200000,10000):\n",
    "\n",
    "    df_train = df[:i]\n",
    "    df_pred = df[i:].copy()\n",
    "    dic = {}\n",
    "    def check(lis,y):\n",
    "        for x in lis:\n",
    "            if x not in dic[y].keys() :\n",
    "                if len(x)>=2 and x.isdigit() == False:\n",
    "                    dic[y][x] = 1\n",
    "            else :\n",
    "                dic[y][x] += 1\n",
    "        return dic\n",
    "\n",
    "\n",
    "    for k,v in df_train.iterrows():\n",
    "        if v['新闻分类'] not in dic.keys():\n",
    "            dic[v['新闻分类']] = {}\n",
    "        else:\n",
    "            check(jieba.lcut(v['新闻标题']),v['新闻分类'])\n",
    "\n",
    "    def check(x):\n",
    "        try:\n",
    "            num = 0\n",
    "            ret = []\n",
    "            res = jieba.lcut(x)\n",
    "            for i in res:\n",
    "                for k1 in dic.keys():\n",
    "                    if i in dic[k1].keys():\n",
    "                        ret.append(k1)\n",
    "            tem = collections.Counter(ret)\n",
    "            return list(sorted(tem.items(),key=lambda x:x[1],reverse=True))[0][0]\n",
    "\n",
    "        except:\n",
    "            return np.nan\n",
    "\n",
    "    df_pred['预测'] = df_pred.apply(lambda x:check(x['新闻标题']),axis = 1)\n",
    "    \n",
    "    lis[i] = df_pred[df_pred['新闻分类'] == df_pred['预测']].count() / df_pred.count()\n",
    "    df_pred['预测'].value_counts()"
   ]
  },
  {
   "cell_type": "code",
   "execution_count": 189,
   "id": "65b91e97",
   "metadata": {},
   "outputs": [
    {
     "data": {
      "text/plain": [
       "{100000: 新闻标题    0.735550\n",
       " 新闻分类    0.735550\n",
       " 预测      0.735609\n",
       " dtype: float64,\n",
       " 110000: 新闻标题    0.731867\n",
       " 新闻分类    0.731867\n",
       " 预测      0.731915\n",
       " dtype: float64,\n",
       " 120000: 新闻标题    0.728725\n",
       " 新闻分类    0.728725\n",
       " 预测      0.728771\n",
       " dtype: float64,\n",
       " 130000: 新闻标题    0.725486\n",
       " 新闻分类    0.725486\n",
       " 预测      0.725517\n",
       " dtype: float64,\n",
       " 140000: 新闻标题    0.723433\n",
       " 新闻分类    0.723433\n",
       " 预测      0.723457\n",
       " dtype: float64,\n",
       " 150000: 新闻标题    0.721600\n",
       " 新闻分类    0.721600\n",
       " 预测      0.721629\n",
       " dtype: float64,\n",
       " 160000: 新闻标题    0.720000\n",
       " 新闻分类    0.720000\n",
       " 预测      0.720018\n",
       " dtype: float64,\n",
       " 170000: 新闻标题    0.716800\n",
       " 新闻分类    0.716800\n",
       " 预测      0.716824\n",
       " dtype: float64,\n",
       " 180000: 新闻标题    0.712850\n",
       " 新闻分类    0.712850\n",
       " 预测      0.712886\n",
       " dtype: float64,\n",
       " 190000: 新闻标题    0.7076\n",
       " 新闻分类    0.7076\n",
       " 预测      0.7076\n",
       " dtype: float64}"
      ]
     },
     "execution_count": 189,
     "metadata": {},
     "output_type": "execute_result"
    }
   ],
   "source": [
    "lis"
   ]
  },
  {
   "cell_type": "code",
   "execution_count": null,
   "id": "43ec9be8",
   "metadata": {},
   "outputs": [],
   "source": []
  }
 ],
 "metadata": {
  "kernelspec": {
   "display_name": "Python 3 (ipykernel)",
   "language": "python",
   "name": "python3"
  },
  "language_info": {
   "codemirror_mode": {
    "name": "ipython",
    "version": 3
   },
   "file_extension": ".py",
   "mimetype": "text/x-python",
   "name": "python",
   "nbconvert_exporter": "python",
   "pygments_lexer": "ipython3",
   "version": "3.9.12"
  }
 },
 "nbformat": 4,
 "nbformat_minor": 5
}
