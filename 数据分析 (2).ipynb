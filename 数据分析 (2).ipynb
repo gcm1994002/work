{
 "cells": [
  {
   "cell_type": "code",
   "execution_count": 1,
   "id": "62717d41",
   "metadata": {},
   "outputs": [],
   "source": [
    "import numpy as np\n",
    "import pandas as pd\n",
    "from sklearn.cluster import KMeans\n",
    "from sklearn.preprocessing import MinMaxScaler, StandardScaler\n",
    "from sklearn.feature_extraction.text import CountVectorizer\n",
    "from sklearn.feature_extraction.text import TfidfVectorizer\n",
    "from sklearn.neural_network import MLPClassifier\n",
    "import matplotlib.pyplot as plt\n",
    "import jieba"
   ]
  },
  {
   "cell_type": "code",
   "execution_count": null,
   "id": "fcd2fa2a",
   "metadata": {},
   "outputs": [],
   "source": [
    "df_cs = pd.read_excel('消费数据.xlsx')\n",
    "df_post = pd.read_excel('发帖数据.xlsx')\n",
    "df_action = pd.read_excel('活动数据.xlsx')"
   ]
  },
  {
   "cell_type": "code",
   "execution_count": null,
   "id": "a618333f",
   "metadata": {},
   "outputs": [],
   "source": [
    "activity_date = df_action['活动时间'][0]\n",
    "cost = df_action['活动成本'][0]\n",
    "moving_threshold = df_action['活动门槛'][0]"
   ]
  },
  {
   "cell_type": "code",
   "execution_count": null,
   "id": "f1badd17",
   "metadata": {},
   "outputs": [],
   "source": [
    "# 活动效果分析 使用用户的首次发贴时间，最后发帖时间，发帖总数，活动的奖励门槛，活动奖励总价值，五个字段综合分析；\n",
    "# 用户发帖数据\n",
    "df_post_temp = df_post.loc[:,['发布时间','UID']]\n",
    "df_post_temp['发布时间'] = pd.to_datetime(df_post_temp['发布时间']).dt.floor('d')\n",
    "df_post_temp['首次发帖时间'] = df_post_temp.groupby('UID')['发布时间'].transform('min')\n",
    "df_post_temp['用户总发帖量'] = df_post_temp.groupby('UID')['发布时间'].transform('count')\n",
    "df_post_temp['日发帖量'] = df_post_temp.groupby(['UID','发布时间'])['发布时间'].transform('count')\n",
    "df_post_temp['最后发帖时间'] = df_post_temp.groupby('UID')['发布时间'].transform('max')\n",
    "\n",
    "df_post_temp_a = df_post_temp[df_post_temp['发布时间']>= activity_date].copy() # 选取活动开始之后的数据\n",
    "df_post_temp_a['用户活动发贴量'] = df_post_temp_a.groupby('UID')['发布时间'].transform('count')\n",
    "df_post_temp_a['累计发布数'] = df_post_temp_a.groupby('UID')['日发帖量'].cumsum()\n",
    "\n",
    "df_post_res = pd.merge(df_post_temp,df_post_temp_a,on=['发布时间','UID','首次发帖时间','用户总发帖量','日发帖量'])\n",
    "df_post_res.columns"
   ]
  },
  {
   "cell_type": "code",
   "execution_count": null,
   "id": "42c1d37f",
   "metadata": {},
   "outputs": [],
   "source": [
    "# 平台用户注册情况和流失情况\n",
    "# 因无法获取最后登录时间，所以暂以用户不再发布时间为流失用户,同理,新增用户的统计口径为第一次发布帖子的时间.\n",
    "df_post_temp1 = df_post_temp.loc[:,['发布时间','最后发帖时间','首次发帖时间','UID']]\n",
    "df_post_temp1['发布时间'] = pd.to_datetime(df_post_temp1['发布时间'])\n",
    "df_post_temp1['年'] = df_post_temp1['发布时间'].dt.year\n",
    "df_post_temp1['月'] = df_post_temp1['发布时间'].dt.month\n",
    "\n",
    "\n",
    "# 新增数据统计\n",
    "df_post_a = df_post_temp1.loc[:,['首次发帖时间','UID','年','月']]\n",
    "df_post_a['年'] = df_post_temp1['首次发帖时间'].dt.year\n",
    "df_post_a['月'] = df_post_temp1['首次发帖时间'].dt.month\n",
    "df_post_a = df_post_a.drop_duplicates(subset=['首次发帖时间','UID'],keep='first')\n",
    "\n",
    "df_group_a = df_post_a.groupby(['年','月'])['首次发帖时间'].count().rename('新增')\n",
    "\n",
    "# 流失数据统计\n",
    "df_post_m = df_post_temp1.loc[:,['最后发帖时间','UID','年','月']] \n",
    "df_post_m['年'] = df_post_m['最后发帖时间'].dt.year\n",
    "df_post_m['月'] = df_post_m['最后发帖时间'].dt.month\n",
    "df_post_m = df_post_m.drop_duplicates(subset=['最后发帖时间','UID'],keep='first')\n",
    "df_group_m = df_post_m.groupby(['年','月'])['最后发帖时间'].count().rename('流失')\n",
    "\n",
    "# 注册和消失同一天用户统计\n",
    "df_post_o = df_post_temp1[df_post_temp1['最后发帖时间'] == df_post_temp1['首次发帖时间']]\n",
    "df_post_o = df_post_.drop_duplicates(subset=['UID'],keep='first')\n",
    "df_group_o = df_post_o.groupby(['年','月'])['UID'].count().rename('新增流失同一天')\n",
    "\n",
    "df_res = pd.concat([df_group_a,df_group_m,df_group_o],axis = 1)\n",
    "\n",
    "time = [202110,202111,202112,202201,202202,202203,202204]\n",
    "y1 = list(df_res['新增'])\n",
    "y2 = list(df_res['流失'])\n",
    "y3 = list(df_res['新增流失同一天'])\n",
    "\n",
    "plt.plot(time, y1, label='add')\n",
    "plt.plot(time, y2, label='reduce')\n",
    "plt.plot(time, y3, label='0') # 新增流失同一天\n",
    "\n",
    "plt.legend()\n",
    "plt.xlabel('count')\n",
    "plt.ylabel('time')\n",
    "\n",
    "plt.show()"
   ]
  },
  {
   "cell_type": "code",
   "execution_count": null,
   "id": "7a897a26",
   "metadata": {},
   "outputs": [],
   "source": [
    "# 奖励与用户行为的关系分析\n",
    "\n",
    "dic = {} # 活动数据统计\n",
    "# 奖励门槛人数统计\n",
    "a = df_post_res.loc[df_post_res['用户活动发贴量'] >= moving_threshold].groupby('UID')['用户总发帖量'].unique()\n",
    "\n",
    "# 发帖数分布统计\n",
    "b = df_post_res.groupby('用户活动发贴量')['UID'].unique()\n",
    "b = [(k,len(i)) for k,i in enumerate(b)]\n",
    "\n",
    "x = [i[0] for i in b]\n",
    "y = [i[1] for i in b]\n",
    "fig, axs = plt.subplots(2, 1, figsize=(6, 12)) \n",
    "\n",
    "axs[0].bar(x,y,1)\n",
    "axs[0].set_title('发帖人数分布')\n",
    "\n",
    "# 在到达门槛后的用户发帖分布情况\n",
    "dic['total'] = a.size # 奖励需发放人数\n",
    "dic['moving_threshold'] = max(y) # 刚好达到门槛人数\n",
    "dic['moving_threshold*1.5'] = sum([i for k,i in b if k > moving_threshold * 1.5 ]) # 发帖超门槛数1.5倍的人数\n",
    "dic['moving_threshold*2'] = sum([i for k,i in b if k > moving_threshold * 2 ]) # 发帖超门槛数2倍的人数\n",
    "\n",
    "hight_values_use = sum([i for k,i in b if k > moving_threshold * 3 ]) # 发帖量超过门槛三倍的，可以视作高活跃用户，并非单纯冲着奖励来的。\n",
    "\n",
    "x1 = dic.keys()\n",
    "y1 = dic.values()\n",
    "\n",
    "axs[1].bar(x1,y1)\n",
    "axs[1].set_title('奖励人数分布')\n",
    "dic"
   ]
  },
  {
   "cell_type": "code",
   "execution_count": null,
   "id": "d54c0175",
   "metadata": {},
   "outputs": [],
   "source": [
    "# 活动成本评估\n",
    "# 单个用户成本dic['单个用户成本']\n",
    "dic['单个用户成本'] = format(cost / dic['total'],'.2f')\n",
    "\n",
    "# 单篇帖子成本\n",
    "dic['单篇帖子成本'] = format(cost / df_post_temp_a['用户活动发贴量'].sum(),'.2f')\n",
    "\n",
    "dic"
   ]
  },
  {
   "cell_type": "code",
   "execution_count": 1,
   "id": "ff231db8",
   "metadata": {
    "collapsed": true
   },
   "outputs": [
    {
     "ename": "NameError",
     "evalue": "name 'pd' is not defined",
     "output_type": "error",
     "traceback": [
      "\u001b[1;31m---------------------------------------------------------------------------\u001b[0m",
      "\u001b[1;31mNameError\u001b[0m                                 Traceback (most recent call last)",
      "Input \u001b[1;32mIn [1]\u001b[0m, in \u001b[0;36m<cell line: 2>\u001b[1;34m()\u001b[0m\n\u001b[0;32m      1\u001b[0m \u001b[38;5;66;03m# 订单分析,消费用户分层\u001b[39;00m\n\u001b[1;32m----> 2\u001b[0m to_day \u001b[38;5;241m=\u001b[39m \u001b[43mpd\u001b[49m\u001b[38;5;241m.\u001b[39mto_datetime( \u001b[38;5;124m'\u001b[39m\u001b[38;5;124m2022-04-28\u001b[39m\u001b[38;5;124m'\u001b[39m)\n\u001b[0;32m      3\u001b[0m a \u001b[38;5;241m=\u001b[39m df_cs\u001b[38;5;241m.\u001b[39mgroupby([\u001b[38;5;124m'\u001b[39m\u001b[38;5;124m收货手机号\u001b[39m\u001b[38;5;124m'\u001b[39m])\n\u001b[0;32m      4\u001b[0m col1 \u001b[38;5;241m=\u001b[39m df_cs\u001b[38;5;241m.\u001b[39mgroupby([\u001b[38;5;124m'\u001b[39m\u001b[38;5;124m收货手机号\u001b[39m\u001b[38;5;124m'\u001b[39m])[\u001b[38;5;124m'\u001b[39m\u001b[38;5;124m总价\u001b[39m\u001b[38;5;124m'\u001b[39m]\u001b[38;5;241m.\u001b[39msum()\u001b[38;5;241m.\u001b[39mastype(\u001b[38;5;124m'\u001b[39m\u001b[38;5;124mfloat64\u001b[39m\u001b[38;5;124m'\u001b[39m)\u001b[38;5;241m.\u001b[39mrename(\u001b[38;5;124m'\u001b[39m\u001b[38;5;124mM\u001b[39m\u001b[38;5;124m'\u001b[39m)\n",
      "\u001b[1;31mNameError\u001b[0m: name 'pd' is not defined"
     ]
    }
   ],
   "source": [
    "# 订单分析,消费用户分层\n",
    "to_day = pd.to_datetime( '2022-04-28')\n",
    "a = df_cs.groupby(['收货手机号'])\n",
    "col1 = df_cs.groupby(['收货手机号'])['总价'].sum().astype('float64').rename('M')\n",
    "col2 = df_cs.groupby(['收货手机号'])['创建时间'].apply(lambda x:(to_day - max(x)).days).rename('R')\n",
    "col3 = df_cs.groupby(['收货手机号'])['订单ID'].count().astype('float64').rename('F')\n",
    "\n",
    "# 合并RMF项\n",
    "df = pd.concat([col1,col2,col3],axis = 1)\n",
    "\n",
    "df2 = df.loc[:,['R', 'M', 'F']].copy()\n",
    "\n",
    "# 数据预处理\n",
    "scaler = StandardScaler()  # 标准化数据集\n",
    "scaled_data = scaler.fit_transform(df2)  # 拟合并标准化数据集\n",
    "\n",
    "# 初始化聚类模型 \n",
    "kmeans = KMeans(n_clusters=8, init='k-means++', random_state=0, max_iter = 50)\n",
    "\n",
    "# 训练模型\n",
    "kmeans.fit(scaled_data)\n",
    "\n",
    "# 输出聚类结果\n",
    "df['标签'] = kmeans.labels_\n",
    "\n",
    "#  输出RMF三个值的均值，方便打标\n",
    "df1 = df.groupby(['标签']).mean()\n",
    "df1.to_excel('用户分层.xlsx')"
   ]
  },
  {
   "cell_type": "code",
   "execution_count": 2,
   "id": "1eebd9d0",
   "metadata": {},
   "outputs": [
    {
     "ename": "NameError",
     "evalue": "name 'df' is not defined",
     "output_type": "error",
     "traceback": [
      "\u001b[1;31m---------------------------------------------------------------------------\u001b[0m",
      "\u001b[1;31mNameError\u001b[0m                                 Traceback (most recent call last)",
      "Input \u001b[1;32mIn [2]\u001b[0m, in \u001b[0;36m<cell line: 2>\u001b[1;34m()\u001b[0m\n\u001b[0;32m      1\u001b[0m \u001b[38;5;66;03m# 查看标签人数\u001b[39;00m\n\u001b[1;32m----> 2\u001b[0m \u001b[43mdf\u001b[49m\u001b[38;5;241m.\u001b[39mgroupby([\u001b[38;5;124m'\u001b[39m\u001b[38;5;124m标签\u001b[39m\u001b[38;5;124m'\u001b[39m])[\u001b[38;5;124m'\u001b[39m\u001b[38;5;124m标签\u001b[39m\u001b[38;5;124m'\u001b[39m]\u001b[38;5;241m.\u001b[39mcount()\n",
      "\u001b[1;31mNameError\u001b[0m: name 'df' is not defined"
     ]
    }
   ],
   "source": [
    "# 查看标签人数\n",
    "df.groupby(['标签'])['标签'].count()"
   ]
  },
  {
   "cell_type": "code",
   "execution_count": 3,
   "id": "72024d11",
   "metadata": {},
   "outputs": [
    {
     "ename": "NameError",
     "evalue": "name 'df_cs' is not defined",
     "output_type": "error",
     "traceback": [
      "\u001b[1;31m---------------------------------------------------------------------------\u001b[0m",
      "\u001b[1;31mNameError\u001b[0m                                 Traceback (most recent call last)",
      "Input \u001b[1;32mIn [3]\u001b[0m, in \u001b[0;36m<cell line: 12>\u001b[1;34m()\u001b[0m\n\u001b[0;32m      9\u001b[0m     \u001b[38;5;28;01mreturn\u001b[39;00m dic\n\u001b[0;32m     11\u001b[0m \u001b[38;5;66;03m# 单个用户消费偏好统计\u001b[39;00m\n\u001b[1;32m---> 12\u001b[0m user_preference \u001b[38;5;241m=\u001b[39m \u001b[43mdf_cs\u001b[49m\u001b[38;5;241m.\u001b[39mgroupby([\u001b[38;5;124m'\u001b[39m\u001b[38;5;124m用户编号\u001b[39m\u001b[38;5;124m'\u001b[39m])[\u001b[38;5;124m'\u001b[39m\u001b[38;5;124m图书类型\u001b[39m\u001b[38;5;124m'\u001b[39m]\u001b[38;5;241m.\u001b[39mapply(\u001b[38;5;28;01mlambda\u001b[39;00m x:book_check(x))\n\u001b[0;32m     13\u001b[0m user_preference\u001b[38;5;241m.\u001b[39mdropna(inplace \u001b[38;5;241m=\u001b[39m\u001b[38;5;28;01mTrue\u001b[39;00m)\n\u001b[0;32m     14\u001b[0m user_preference\u001b[38;5;241m.\u001b[39msort_values(ascending\u001b[38;5;241m=\u001b[39m\u001b[38;5;28;01mFalse\u001b[39;00m)\n",
      "\u001b[1;31mNameError\u001b[0m: name 'df_cs' is not defined"
     ]
    }
   ],
   "source": [
    "# 用户消费偏好统计\n",
    "def book_check(x):\n",
    "    dic = {}\n",
    "    for i in x:\n",
    "        if i in dic.keys():\n",
    "            dic[i] += 1\n",
    "        else:\n",
    "            dic[i] = 1\n",
    "    return dic\n",
    "\n",
    "# 单个用户消费偏好统计\n",
    "user_preference = df_cs.groupby(['用户编号'])['图书类型'].apply(lambda x:book_check(x))\n",
    "user_preference.dropna(inplace =True)\n",
    "user_preference.sort_values(ascending=False)\n",
    "\n",
    "user_preference.to_excel('用户购买偏好.xlsx')\n",
    "\n",
    "# 平台用户消费偏好统计\n",
    "users_preference = df_cs.groupby(['图书类型'])['图书类型'].apply(lambda x:book_check(x))\n",
    "users_preference.dropna(inplace =True)\n",
    "users_preference.sort_values(ascending=False)\n",
    "\n",
    "categories=[i[0] for i in users_preference.keys()]  # 取列表标签作为x轴 \n",
    "\n",
    "data2 = list(users_preference)\n",
    "\n",
    "plt.bar(x,data2)  # 平台销量最高的商品\n",
    "\n",
    "users_preference.to_excel('平台销售情况.xlsx')"
   ]
  },
  {
   "cell_type": "code",
   "execution_count": 4,
   "id": "e4d675b3",
   "metadata": {},
   "outputs": [
    {
     "ename": "NameError",
     "evalue": "name 'pd' is not defined",
     "output_type": "error",
     "traceback": [
      "\u001b[1;31m---------------------------------------------------------------------------\u001b[0m",
      "\u001b[1;31mNameError\u001b[0m                                 Traceback (most recent call last)",
      "Input \u001b[1;32mIn [4]\u001b[0m, in \u001b[0;36m<cell line: 2>\u001b[1;34m()\u001b[0m\n\u001b[0;32m      1\u001b[0m \u001b[38;5;66;03m# 用户用券情况分析\u001b[39;00m\n\u001b[1;32m----> 2\u001b[0m df_coupon \u001b[38;5;241m=\u001b[39m \u001b[43mpd\u001b[49m\u001b[38;5;241m.\u001b[39mread_excel(\u001b[38;5;124m'\u001b[39m\u001b[38;5;124m消费数据.xlsx\u001b[39m\u001b[38;5;124m'\u001b[39m,sheet_name\u001b[38;5;241m=\u001b[39m\u001b[38;5;124m'\u001b[39m\u001b[38;5;124m优惠券使用情况\u001b[39m\u001b[38;5;124m'\u001b[39m)\n\u001b[0;32m      3\u001b[0m df_coupon\u001b[38;5;241m.\u001b[39mgroupby(\u001b[38;5;124m'\u001b[39m\u001b[38;5;124m收货人手机号\u001b[39m\u001b[38;5;124m'\u001b[39m)[\u001b[38;5;124m'\u001b[39m\u001b[38;5;124m领券手机号\u001b[39m\u001b[38;5;124m'\u001b[39m]\u001b[38;5;241m.\u001b[39mcount()\n",
      "\u001b[1;31mNameError\u001b[0m: name 'pd' is not defined"
     ]
    }
   ],
   "source": [
    "# 用户用券情况分析\n",
    "df_coupon = pd.read_excel('消费数据.xlsx',sheet_name='优惠券使用情况')\n",
    "df_coupon.groupby('收货人手机号')['领券手机号'].count() # 大于单个用户可得券总数的可以判断为异常用户"
   ]
  },
  {
   "cell_type": "code",
   "execution_count": 5,
   "id": "060b7abb",
   "metadata": {
    "scrolled": false
   },
   "outputs": [
    {
     "ename": "NameError",
     "evalue": "name 'df_post' is not defined",
     "output_type": "error",
     "traceback": [
      "\u001b[1;31m---------------------------------------------------------------------------\u001b[0m",
      "\u001b[1;31mNameError\u001b[0m                                 Traceback (most recent call last)",
      "Input \u001b[1;32mIn [5]\u001b[0m, in \u001b[0;36m<cell line: 2>\u001b[1;34m()\u001b[0m\n\u001b[0;32m      1\u001b[0m \u001b[38;5;66;03m# 用户发帖,购物习惯\u001b[39;00m\n\u001b[1;32m----> 2\u001b[0m df_post_time \u001b[38;5;241m=\u001b[39m \u001b[43mdf_post\u001b[49m\u001b[38;5;241m.\u001b[39mloc[:,[\u001b[38;5;124m'\u001b[39m\u001b[38;5;124m发布时间\u001b[39m\u001b[38;5;124m'\u001b[39m,\u001b[38;5;124m'\u001b[39m\u001b[38;5;124mUID\u001b[39m\u001b[38;5;124m'\u001b[39m]]\n\u001b[0;32m      3\u001b[0m df_post_time[\u001b[38;5;124m'\u001b[39m\u001b[38;5;124m发布时间\u001b[39m\u001b[38;5;124m'\u001b[39m] \u001b[38;5;241m=\u001b[39m pd\u001b[38;5;241m.\u001b[39mto_datetime(df_post_time[\u001b[38;5;124m'\u001b[39m\u001b[38;5;124m发布时间\u001b[39m\u001b[38;5;124m'\u001b[39m])\n\u001b[0;32m      4\u001b[0m df_post_time[\u001b[38;5;124m'\u001b[39m\u001b[38;5;124m小时\u001b[39m\u001b[38;5;124m'\u001b[39m] \u001b[38;5;241m=\u001b[39m df_post_time[\u001b[38;5;124m'\u001b[39m\u001b[38;5;124m发布时间\u001b[39m\u001b[38;5;124m'\u001b[39m]\u001b[38;5;241m.\u001b[39mdt\u001b[38;5;241m.\u001b[39mhour\n",
      "\u001b[1;31mNameError\u001b[0m: name 'df_post' is not defined"
     ]
    }
   ],
   "source": [
    "# 用户发帖,购物习惯\n",
    "df_post_time = df_post.loc[:,['发布时间','UID']]\n",
    "df_post_time['发布时间'] = pd.to_datetime(df_post_time['发布时间'])\n",
    "df_post_time['小时'] = df_post_time['发布时间'].dt.hour\n",
    "df_post_time['工作日'] = df_post_time['发布时间'].dt.weekday+1\n",
    "df_post_time.columns\n",
    "\n",
    "df_post_time['工作日'] = df_post_time.apply(lambda x:1 if x['工作日'] < 6 else 0,axis = 1)\n",
    "df_post_time_total = df_post_time.groupby(['工作日','小时'])['UID'].count()\n",
    "\n",
    "time = range(24)\n",
    "x1 = list(df_post_time_total[0])  # 休息日发布情况\n",
    "x2 = list(df_post_time_total[1])  # 工作日发布情况\n",
    "\n",
    "fig = plt.figure(figsize=(10,6), dpi=100)\n",
    "plt.plot(time, x1, label='Work day')\n",
    "plt.plot(time, x2, label='Rest day')\n",
    "plt.xticks(time)\n",
    "\n",
    "plt.legend()\n",
    "plt.xlabel('count')\n",
    "plt.ylabel('time')\n",
    "\n",
    "plt.show()"
   ]
  },
  {
   "cell_type": "code",
   "execution_count": null,
   "id": "f4eb7ce8",
   "metadata": {},
   "outputs": [],
   "source": [
    "df_cs_time = df_post.loc[:,['发布时间','UID']]\n",
    "df_post_time['发布时间'] = pd.to_datetime(df_post_time['发布时间'])\n",
    "df_post_time['小时'] = df_post_time['发布时间'].dt.hour\n",
    "df_post_time['工作日'] = df_post_time['发布时间'].dt.weekday+1\n",
    "df_post_time.columns\n",
    "\n",
    "df_post_time['工作日'] = df_post_time.apply(lambda x:1 if x['工作日'] < 6 else 0,axis = 1)\n",
    "df_post_time_total = df_post_time.groupby(['工作日','小时'])['UID'].count()\n",
    "\n",
    "time = range(24)\n",
    "x1 = list(df_post_time_total[0])  # 休息日发布情况\n",
    "x2 = list(df_post_time_total[1])  # 工作日发布情况\n",
    "\n",
    "fig = plt.figure(figsize=(10,6), dpi=100)\n",
    "plt.plot(time, x1, label='Work day')\n",
    "plt.plot(time, x2, label='Rest day')\n",
    "plt.xticks(time)\n",
    "\n",
    "plt.legend()\n",
    "plt.xlabel('count')\n",
    "plt.ylabel('time')\n",
    "\n",
    "plt.show()"
   ]
  },
  {
   "cell_type": "code",
   "execution_count": null,
   "id": "9ec3342a",
   "metadata": {},
   "outputs": [],
   "source": []
  },
  {
   "cell_type": "code",
   "execution_count": null,
   "id": "69de3b02",
   "metadata": {},
   "outputs": [],
   "source": []
  },
  {
   "cell_type": "code",
   "execution_count": null,
   "id": "53aea449",
   "metadata": {},
   "outputs": [],
   "source": []
  },
  {
   "cell_type": "code",
   "execution_count": null,
   "id": "5cb5b01e",
   "metadata": {},
   "outputs": [],
   "source": []
  },
  {
   "cell_type": "code",
   "execution_count": null,
   "id": "9cca6810",
   "metadata": {},
   "outputs": [],
   "source": []
  },
  {
   "cell_type": "code",
   "execution_count": null,
   "id": "fefe00d6",
   "metadata": {},
   "outputs": [],
   "source": []
  },
  {
   "cell_type": "code",
   "execution_count": null,
   "id": "50daa0ed",
   "metadata": {},
   "outputs": [],
   "source": []
  },
  {
   "cell_type": "code",
   "execution_count": null,
   "id": "2b7657f9",
   "metadata": {},
   "outputs": [],
   "source": []
  },
  {
   "cell_type": "code",
   "execution_count": null,
   "id": "71d2e465",
   "metadata": {},
   "outputs": [],
   "source": []
  },
  {
   "cell_type": "code",
   "execution_count": null,
   "id": "2dc6f730",
   "metadata": {},
   "outputs": [],
   "source": []
  },
  {
   "cell_type": "code",
   "execution_count": null,
   "id": "4c9c0470",
   "metadata": {},
   "outputs": [],
   "source": []
  },
  {
   "cell_type": "code",
   "execution_count": null,
   "id": "3ed4fe26",
   "metadata": {},
   "outputs": [],
   "source": []
  }
 ],
 "metadata": {
  "kernelspec": {
   "display_name": "Python 3 (ipykernel)",
   "language": "python",
   "name": "python3"
  },
  "language_info": {
   "codemirror_mode": {
    "name": "ipython",
    "version": 3
   },
   "file_extension": ".py",
   "mimetype": "text/x-python",
   "name": "python",
   "nbconvert_exporter": "python",
   "pygments_lexer": "ipython3",
   "version": "3.9.12"
  }
 },
 "nbformat": 4,
 "nbformat_minor": 5
}
