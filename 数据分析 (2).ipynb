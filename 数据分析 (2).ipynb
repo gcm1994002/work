{
 "cells": [
  {
   "cell_type": "code",
   "execution_count": 1,
   "id": "62717d41",
   "metadata": {},
   "outputs": [],
   "source": [
    "import numpy as np\n",
    "import pandas as pd\n",
    "from sklearn.cluster import KMeans\n",
    "from sklearn.preprocessing import MinMaxScaler, StandardScaler\n",
    "from sklearn.feature_extraction.text import CountVectorizer\n",
    "from sklearn.feature_extraction.text import TfidfVectorizer\n",
    "from sklearn.neural_network import MLPClassifier\n",
    "import matplotlib.pyplot as plt\n",
    "import jieba"
   ]
  },
  {
   "cell_type": "code",
   "execution_count": 19,
   "id": "fcd2fa2a",
   "metadata": {},
   "outputs": [],
   "source": [
    "df_cs = pd.read_excel('消费数据.xlsx')\n",
    "df_post = pd.read_excel('发帖数据.xlsx')\n",
    "df_action = pd.read_excel('活动数据.xlsx')"
   ]
  },
  {
   "cell_type": "code",
   "execution_count": 251,
   "id": "a618333f",
   "metadata": {},
   "outputs": [],
   "source": [
    "activity_date = df_action['活动时间'][0]\n",
    "cost = df_action['活动成本'][0]\n",
    "moving_threshold = df_action['活动门槛'][0]"
   ]
  },
  {
   "cell_type": "code",
   "execution_count": 202,
   "id": "f1badd17",
   "metadata": {},
   "outputs": [
    {
     "data": {
      "text/plain": [
       "Index(['发布时间', 'UID', '首次发帖时间', '用户总发帖量', '日发帖量', '最后发帖时间_x', '最后发帖时间_y',\n",
       "       '用户活动发贴量', '累计发布数'],\n",
       "      dtype='object')"
      ]
     },
     "execution_count": 202,
     "metadata": {},
     "output_type": "execute_result"
    }
   ],
   "source": [
    "# 活动效果分析 使用用户的首次发贴时间，最后发帖时间，发帖总数，活动的奖励门槛，活动奖励总价值，五个字段综合分析；\n",
    "# 用户发帖数据\n",
    "df_post_temp = df_post.loc[:,['发布时间','UID']]\n",
    "df_post_temp['发布时间'] = pd.to_datetime(df_post_temp['发布时间']).dt.floor('d')\n",
    "df_post_temp['首次发帖时间'] = df_post_temp.groupby('UID')['发布时间'].transform('min')\n",
    "df_post_temp['用户总发帖量'] = df_post_temp.groupby('UID')['发布时间'].transform('count')\n",
    "df_post_temp['日发帖量'] = df_post_temp.groupby(['UID','发布时间'])['发布时间'].transform('count')\n",
    "df_post_temp['最后发帖时间'] = df_post_temp.groupby('UID')['发布时间'].transform('max')\n",
    "\n",
    "df_post_temp_a = df_post_temp[df_post_temp['发布时间']>= activity_date].copy() # 选取活动开始之后的数据\n",
    "df_post_temp_a['用户活动发贴量'] = df_post_temp_a.groupby('UID')['发布时间'].transform('count')\n",
    "df_post_temp_a['累计发布数'] = df_post_temp_a.groupby('UID')['日发帖量'].cumsum()\n",
    "\n",
    "df_post_res = pd.merge(df_post_temp,df_post_temp_a,on=['发布时间','UID','首次发帖时间','用户总发帖量','日发帖量'])\n",
    "df_post_res.columns"
   ]
  },
  {
   "cell_type": "code",
   "execution_count": 250,
   "id": "42c1d37f",
   "metadata": {},
   "outputs": [
    {
     "data": {
      "image/png": "[encoded data removed]",
      "text/plain": [
       "<Figure size 432x288 with 1 Axes>"
      ]
     },
     "metadata": {
      "needs_background": "light"
     },
     "output_type": "display_data"
    }
   ],
   "source": [
    "# 平台用户注册情况和流失情况\n",
    "# 因无法获取最后登录时间，所以暂以用户不再发布时间为流失用户,同理,新增用户的统计口径为第一次发布帖子的时间.\n",
    "df_post_temp1 = df_post_temp.loc[:,['发布时间','最后发帖时间','首次发帖时间','UID']]\n",
    "df_post_temp1['发布时间'] = pd.to_datetime(df_post_temp1['发布时间'])\n",
    "df_post_temp1['年'] = df_post_temp1['发布时间'].dt.year\n",
    "df_post_temp1['月'] = df_post_temp1['发布时间'].dt.month\n",
    "\n",
    "\n",
    "# 新增数据统计\n",
    "df_post_a = df_post_temp1.loc[:,['首次发帖时间','UID','年','月']]\n",
    "df_post_a['年'] = df_post_temp1['首次发帖时间'].dt.year\n",
    "df_post_a['月'] = df_post_temp1['首次发帖时间'].dt.month\n",
    "df_post_a = df_post_a.drop_duplicates(subset=['首次发帖时间','UID'],keep='first')\n",
    "\n",
    "df_group_a = df_post_a.groupby(['年','月'])['首次发帖时间'].count().rename('新增')\n",
    "\n",
    "# 流失数据统计\n",
    "df_post_m = df_post_temp1.loc[:,['最后发帖时间','UID','年','月']] \n",
    "df_post_m['年'] = df_post_m['最后发帖时间'].dt.year\n",
    "df_post_m['月'] = df_post_m['最后发帖时间'].dt.month\n",
    "df_post_m = df_post_m.drop_duplicates(subset=['最后发帖时间','UID'],keep='first')\n",
    "df_group_m = df_post_m.groupby(['年','月'])['最后发帖时间'].count().rename('流失')\n",
    "\n",
    "# 注册和消失同一天用户统计\n",
    "df_post_o = df_post_temp1[df_post_temp1['最后发帖时间'] == df_post_temp1['首次发帖时间']]\n",
    "df_post_o = df_post_.drop_duplicates(subset=['UID'],keep='first')\n",
    "df_group_o = df_post_o.groupby(['年','月'])['UID'].count().rename('新增流失同一天')\n",
    "\n",
    "df_res = pd.concat([df_group_a,df_group_m,df_group_o],axis = 1)\n",
    "\n",
    "time = [202110,202111,202112,202201,202202,202203,202204]\n",
    "y1 = list(df_res['新增'])\n",
    "y2 = list(df_res['流失'])\n",
    "y3 = list(df_res['新增流失同一天'])\n",
    "\n",
    "plt.plot(time, y1, label='add')\n",
    "plt.plot(time, y2, label='reduce')\n",
    "plt.plot(time, y3, label='0') # 新增流失同一天\n",
    "\n",
    "plt.legend()\n",
    "plt.xlabel('count')\n",
    "plt.ylabel('time')\n",
    "\n",
    "plt.show()"
   ]
  },
  {
   "cell_type": "code",
   "execution_count": 252,
   "id": "7a897a26",
   "metadata": {
    "collapsed": true
   },
   "outputs": [
    {
     "data": {
      "text/plain": [
       "{'total': 668,\n",
       " 'moving_threshold': 338,\n",
       " 'moving_threshold*1.5': 118,\n",
       " 'moving_threshold*2': 45}"
      ]
     },
     "execution_count": 252,
     "metadata": {},
     "output_type": "execute_result"
    },
    {
     "name": "stderr",
     "output_type": "stream",
     "text": [
      "C:\\Users\\31007\\anaconda3\\lib\\site-packages\\IPython\\core\\pylabtools.py:151: UserWarning: Glyph 21457 (\\N{CJK UNIFIED IDEOGRAPH-53D1}) missing from current font.\n",
      "  fig.canvas.print_figure(bytes_io, **kw)\n",
      "C:\\Users\\31007\\anaconda3\\lib\\site-packages\\IPython\\core\\pylabtools.py:151: UserWarning: Glyph 24086 (\\N{CJK UNIFIED IDEOGRAPH-5E16}) missing from current font.\n",
      "  fig.canvas.print_figure(bytes_io, **kw)\n",
      "C:\\Users\\31007\\anaconda3\\lib\\site-packages\\IPython\\core\\pylabtools.py:151: UserWarning: Glyph 20154 (\\N{CJK UNIFIED IDEOGRAPH-4EBA}) missing from current font.\n",
      "  fig.canvas.print_figure(bytes_io, **kw)\n",
      "C:\\Users\\31007\\anaconda3\\lib\\site-packages\\IPython\\core\\pylabtools.py:151: UserWarning: Glyph 25968 (\\N{CJK UNIFIED IDEOGRAPH-6570}) missing from current font.\n",
      "  fig.canvas.print_figure(bytes_io, **kw)\n",
      "C:\\Users\\31007\\anaconda3\\lib\\site-packages\\IPython\\core\\pylabtools.py:151: UserWarning: Glyph 20998 (\\N{CJK UNIFIED IDEOGRAPH-5206}) missing from current font.\n",
      "  fig.canvas.print_figure(bytes_io, **kw)\n",
      "C:\\Users\\31007\\anaconda3\\lib\\site-packages\\IPython\\core\\pylabtools.py:151: UserWarning: Glyph 24067 (\\N{CJK UNIFIED IDEOGRAPH-5E03}) missing from current font.\n",
      "  fig.canvas.print_figure(bytes_io, **kw)\n",
      "C:\\Users\\31007\\anaconda3\\lib\\site-packages\\IPython\\core\\pylabtools.py:151: UserWarning: Glyph 22870 (\\N{CJK UNIFIED IDEOGRAPH-5956}) missing from current font.\n",
      "  fig.canvas.print_figure(bytes_io, **kw)\n",
      "C:\\Users\\31007\\anaconda3\\lib\\site-packages\\IPython\\core\\pylabtools.py:151: UserWarning: Glyph 21169 (\\N{CJK UNIFIED IDEOGRAPH-52B1}) missing from current font.\n",
      "  fig.canvas.print_figure(bytes_io, **kw)\n"
     ]
    },
    {
     "data": {
      "image/png": "[encoded data removed]",
      "text/plain": [
       "<Figure size 432x864 with 2 Axes>"
      ]
     },
     "metadata": {
      "needs_background": "light"
     },
     "output_type": "display_data"
    }
   ],
   "source": [
    "# 奖励与用户行为的关系分析\n",
    "\n",
    "dic = {} # 活动数据统计\n",
    "# 奖励门槛人数统计\n",
    "a = df_post_res.loc[df_post_res['用户活动发贴量'] >= moving_threshold].groupby('UID')['用户总发帖量'].unique()\n",
    "\n",
    "# 发帖数分布统计\n",
    "b = df_post_res.groupby('用户活动发贴量')['UID'].unique()\n",
    "b = [(k,len(i)) for k,i in enumerate(b)]\n",
    "\n",
    "x = [i[0] for i in b]\n",
    "y = [i[1] for i in b]\n",
    "fig, axs = plt.subplots(2, 1, figsize=(6, 12)) \n",
    "\n",
    "axs[0].bar(x,y,1)\n",
    "axs[0].set_title('发帖人数分布')\n",
    "\n",
    "# 在到达门槛后的用户发帖分布情况\n",
    "dic['total'] = a.size # 奖励需发放人数\n",
    "dic['moving_threshold'] = max(y) # 刚好达到门槛人数\n",
    "dic['moving_threshold*1.5'] = sum([i for k,i in b if k > moving_threshold * 1.5 ]) # 发帖超门槛数1.5倍的人数\n",
    "dic['moving_threshold*2'] = sum([i for k,i in b if k > moving_threshold * 2 ]) # 发帖超门槛数2倍的人数\n",
    "\n",
    "hight_values_use = sum([i for k,i in b if k > moving_threshold * 3 ]) # 发帖量超过门槛三倍的，可以视作高活跃用户，并非单纯冲着奖励来的。\n",
    "\n",
    "x1 = dic.keys()\n",
    "y1 = dic.values()\n",
    "\n",
    "axs[1].bar(x1,y1)\n",
    "axs[1].set_title('奖励人数分布')\n",
    "dic"
   ]
  },
  {
   "cell_type": "code",
   "execution_count": 264,
   "id": "d54c0175",
   "metadata": {},
   "outputs": [
    {
     "data": {
      "text/plain": [
       "{'total': 668,\n",
       " 'moving_threshold': 338,\n",
       " 'moving_threshold*1.5': 118,\n",
       " 'moving_threshold*2': 45,\n",
       " '单个用户成本': '598.80',\n",
       " '单篇帖子成本': '19.87'}"
      ]
     },
     "execution_count": 264,
     "metadata": {},
     "output_type": "execute_result"
    }
   ],
   "source": [
    "# 活动成本评估\n",
    "# 单个用户成本dic['单个用户成本']\n",
    "dic['单个用户成本'] = format(cost / dic['total'],'.2f')\n",
    "\n",
    "# 单篇帖子成本\n",
    "dic['单篇帖子成本'] = format(cost / df_post_temp_a['用户活动发贴量'].sum(),'.2f')\n",
    "\n",
    "dic"
   ]
  },
  {
   "cell_type": "code",
   "execution_count": 282,
   "id": "ff231db8",
   "metadata": {},
   "outputs": [],
   "source": [
    "# 订单分析,消费用户分层\n",
    "to_day = pd.to_datetime( '2022-04-28')\n",
    "a = df_cs.groupby(['收货手机号'])\n",
    "col1 = df_cs.groupby(['收货手机号'])['总价'].sum().astype('float64').rename('M')\n",
    "col2 = df_cs.groupby(['收货手机号'])['创建时间'].apply(lambda x:(to_day - max(x)).days).rename('R')\n",
    "col3 = df_cs.groupby(['收货手机号'])['订单ID'].count().astype('float64').rename('F')\n",
    "\n",
    "# 合并RMF项\n",
    "df = pd.concat([col1,col2,col3],axis = 1)\n",
    "\n",
    "df2 = df.loc[:,['R', 'M', 'F']].copy()\n",
    "\n",
    "# 数据预处理\n",
    "scaler = StandardScaler()  # 标准化数据集\n",
    "scaled_data = scaler.fit_transform(df2)  # 拟合并标准化数据集\n",
    "\n",
    "# 初始化聚类模型 \n",
    "kmeans = KMeans(n_clusters=8, init='k-means++', random_state=0, max_iter = 50)\n",
    "\n",
    "# 训练模型\n",
    "kmeans.fit(scaled_data)\n",
    "\n",
    "# 输出聚类结果\n",
    "df['标签'] = kmeans.labels_\n",
    "\n",
    "#  输出RMF三个值的均值，方便打标\n",
    "df1 = df.groupby(['标签']).mean()\n",
    "df1.to_excel('用户分层.xlsx')"
   ]
  },
  {
   "cell_type": "code",
   "execution_count": 281,
   "id": "1eebd9d0",
   "metadata": {},
   "outputs": [
    {
     "data": {
      "text/plain": [
       "标签\n",
       "0    138\n",
       "1     81\n",
       "2     24\n",
       "3      1\n",
       "4     12\n",
       "5    177\n",
       "6     78\n",
       "7     11\n",
       "Name: 标签, dtype: int64"
      ]
     },
     "execution_count": 281,
     "metadata": {},
     "output_type": "execute_result"
    }
   ],
   "source": [
    "# 查看标签人数\n",
    "df.groupby(['标签'])['标签'].count()"
   ]
  },
  {
   "cell_type": "code",
   "execution_count": 337,
   "id": "72024d11",
   "metadata": {},
   "outputs": [
    {
     "name": "stdout",
     "output_type": "stream",
     "text": [
      "用户编号            \n",
      "1027318   艺术|设计      1.0\n",
      "2261651   生活|美食      2.0\n",
      "          游戏|动漫     11.0\n",
      "2533674   艺术|设计      2.0\n",
      "2803835   艺术|设计      1.0\n",
      "                    ... \n",
      "11829033  游戏|动漫      5.0\n",
      "11829072  文学|小说      2.0\n",
      "11830731  游戏|动漫      5.0\n",
      "11833485  个人成长管理     1.0\n",
      "11835603  游戏|动漫      1.0\n",
      "Name: 图书类型, Length: 675, dtype: float64\n"
     ]
    },
    {
     "data": {
      "text/plain": [
       "<BarContainer object of 16 artists>"
      ]
     },
     "execution_count": 337,
     "metadata": {},
     "output_type": "execute_result"
    },
    {
     "data": {
      "image/png": "[encoded data removed]",
      "text/plain": [
       "<Figure size 432x288 with 1 Axes>"
      ]
     },
     "metadata": {
      "needs_background": "light"
     },
     "output_type": "display_data"
    }
   ],
   "source": [
    "# 用户消费偏好统计\n",
    "def book_check(x):\n",
    "    dic = {}\n",
    "    for i in x:\n",
    "        if i in dic.keys():\n",
    "            dic[i] += 1\n",
    "        else:\n",
    "            dic[i] = 1\n",
    "    return dic\n",
    "\n",
    "# 单个用户消费偏好统计\n",
    "user_preference = df_cs.groupby(['用户编号'])['图书类型'].apply(lambda x:book_check(x))\n",
    "user_preference.dropna(inplace =True)\n",
    "user_preference.sort_values(ascending=False)\n",
    "\n",
    "user_preference.to_excel('用户购买偏好.xlsx')\n",
    "\n",
    "# 平台用户消费偏好统计\n",
    "users_preference = df_cs.groupby(['图书类型'])['图书类型'].apply(lambda x:book_check(x))\n",
    "users_preference.dropna(inplace =True)\n",
    "users_preference.sort_values(ascending=False)\n",
    "\n",
    "categories=[i[0] for i in users_preference.keys()]  # 取列表标签作为x轴 \n",
    "\n",
    "data2 = list(users_preference)\n",
    "\n",
    "plt.bar(x,data2)  # 平台销量最高的商品\n",
    "\n",
    "users_preference.to_excel('平台销售情况.xlsx')"
   ]
  },
  {
   "cell_type": "code",
   "execution_count": 273,
   "id": "e4d675b3",
   "metadata": {},
   "outputs": [
    {
     "data": {
      "text/html": [
       "<div>\n",
       "<style scoped>\n",
       "    .dataframe tbody tr th:only-of-type {\n",
       "        vertical-align: middle;\n",
       "    }\n",
       "\n",
       "    .dataframe tbody tr th {\n",
       "        vertical-align: top;\n",
       "    }\n",
       "\n",
       "    .dataframe thead th {\n",
       "        text-align: right;\n",
       "    }\n",
       "</style>\n",
       "<table border=\"1\" class=\"dataframe\">\n",
       "  <thead>\n",
       "    <tr style=\"text-align: right;\">\n",
       "      <th></th>\n",
       "      <th>index</th>\n",
       "      <th>标签</th>\n",
       "      <th>M</th>\n",
       "      <th>R</th>\n",
       "      <th>F</th>\n",
       "    </tr>\n",
       "  </thead>\n",
       "  <tbody>\n",
       "    <tr>\n",
       "      <th>0</th>\n",
       "      <td>0</td>\n",
       "      <td>0</td>\n",
       "      <td>431.577826</td>\n",
       "      <td>7.688406</td>\n",
       "      <td>8.942029</td>\n",
       "    </tr>\n",
       "    <tr>\n",
       "      <th>1</th>\n",
       "      <td>1</td>\n",
       "      <td>1</td>\n",
       "      <td>197.011111</td>\n",
       "      <td>148.246914</td>\n",
       "      <td>2.827160</td>\n",
       "    </tr>\n",
       "    <tr>\n",
       "      <th>2</th>\n",
       "      <td>2</td>\n",
       "      <td>2</td>\n",
       "      <td>3005.981667</td>\n",
       "      <td>23.541667</td>\n",
       "      <td>34.500000</td>\n",
       "    </tr>\n",
       "    <tr>\n",
       "      <th>3</th>\n",
       "      <td>3</td>\n",
       "      <td>3</td>\n",
       "      <td>21370.300000</td>\n",
       "      <td>1.000000</td>\n",
       "      <td>151.000000</td>\n",
       "    </tr>\n",
       "    <tr>\n",
       "      <th>4</th>\n",
       "      <td>4</td>\n",
       "      <td>4</td>\n",
       "      <td>10699.705833</td>\n",
       "      <td>6.833333</td>\n",
       "      <td>102.416667</td>\n",
       "    </tr>\n",
       "    <tr>\n",
       "      <th>5</th>\n",
       "      <td>5</td>\n",
       "      <td>5</td>\n",
       "      <td>275.567740</td>\n",
       "      <td>43.062147</td>\n",
       "      <td>4.519774</td>\n",
       "    </tr>\n",
       "    <tr>\n",
       "      <th>6</th>\n",
       "      <td>6</td>\n",
       "      <td>6</td>\n",
       "      <td>361.551154</td>\n",
       "      <td>107.064103</td>\n",
       "      <td>5.666667</td>\n",
       "    </tr>\n",
       "    <tr>\n",
       "      <th>7</th>\n",
       "      <td>7</td>\n",
       "      <td>7</td>\n",
       "      <td>5262.029091</td>\n",
       "      <td>11.636364</td>\n",
       "      <td>75.818182</td>\n",
       "    </tr>\n",
       "  </tbody>\n",
       "</table>\n",
       "</div>"
      ],
      "text/plain": [
       "   index  标签             M           R           F\n",
       "0      0   0    431.577826    7.688406    8.942029\n",
       "1      1   1    197.011111  148.246914    2.827160\n",
       "2      2   2   3005.981667   23.541667   34.500000\n",
       "3      3   3  21370.300000    1.000000  151.000000\n",
       "4      4   4  10699.705833    6.833333  102.416667\n",
       "5      5   5    275.567740   43.062147    4.519774\n",
       "6      6   6    361.551154  107.064103    5.666667\n",
       "7      7   7   5262.029091   11.636364   75.818182"
      ]
     },
     "execution_count": 273,
     "metadata": {},
     "output_type": "execute_result"
    }
   ],
   "source": [
    "# 用户用券情况分析\n",
    "df_coupon = pd.read_excel('消费数据.xlsx',sheet_name='优惠券使用情况')\n",
    "df_coupon.groupby('收货人手机号')['领券手机号'].count() # 大于单个用户可得券总数的可以判断为异常用户"
   ]
  },
  {
   "cell_type": "code",
   "execution_count": 401,
   "id": "060b7abb",
   "metadata": {},
   "outputs": [
    {
     "data": {
      "image/png": "[encoded data removed]",
      "text/plain": [
       "<Figure size 1000x600 with 1 Axes>"
      ]
     },
     "metadata": {
      "needs_background": "light"
     },
     "output_type": "display_data"
    }
   ],
   "source": [
    "# 用户发帖,购物习惯\n",
    "df_post_time = df_post.loc[:,['发布时间','UID']]\n",
    "df_post_time['发布时间'] = pd.to_datetime(df_post_time['发布时间'])\n",
    "df_post_time['小时'] = df_post_time['发布时间'].dt.hour\n",
    "df_post_time['工作日'] = df_post_time['发布时间'].dt.weekday+1\n",
    "df_post_time.columns\n",
    "\n",
    "df_post_time['工作日'] = df_post_time.apply(lambda x:1 if x['工作日'] < 6 else 0,axis = 1)\n",
    "df_post_time_total = df_post_time.groupby(['工作日','小时'])['UID'].count()\n",
    "\n",
    "time = range(24)\n",
    "x1 = list(df_post_time_total[0])  # 休息日发布情况\n",
    "x2 = list(df_post_time_total[1])  # 工作日发布情况\n",
    "\n",
    "fig = plt.figure(figsize=(10,6), dpi=100)\n",
    "plt.plot(time, x1, label='Work day')\n",
    "plt.plot(time, x2, label='Rest day')\n",
    "plt.xticks(time)\n",
    "\n",
    "plt.legend()\n",
    "plt.xlabel('count')\n",
    "plt.ylabel('time')\n",
    "\n",
    "plt.show()"
   ]
  },
  {
   "cell_type": "code",
   "execution_count": 164,
   "id": "12bc8033",
   "metadata": {},
   "outputs": [
    {
     "data": {
      "text/plain": [
       "标签\n",
       "0    138\n",
       "1     81\n",
       "2     24\n",
       "3      1\n",
       "4     12\n",
       "5    177\n",
       "6     78\n",
       "7     11\n",
       "Name: 收货手机号, dtype: int64"
      ]
     },
     "execution_count": 164,
     "metadata": {},
     "output_type": "execute_result"
    }
   ],
   "source": []
  },
  {
   "cell_type": "code",
   "execution_count": null,
   "id": "f4eb7ce8",
   "metadata": {},
   "outputs": [],
   "source": []
  }
 ],
 "metadata": {
  "kernelspec": {
   "display_name": "Python 3 (ipykernel)",
   "language": "python",
   "name": "python3"
  },
  "language_info": {
   "codemirror_mode": {
    "name": "ipython",
    "version": 3
   },
   "file_extension": ".py",
   "mimetype": "text/x-python",
   "name": "python",
   "nbconvert_exporter": "python",
   "pygments_lexer": "ipython3",
   "version": "3.9.12"
  }
 },
 "nbformat": 4,
 "nbformat_minor": 5
}
